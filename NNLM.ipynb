{
 "cells": [
  {
   "cell_type": "markdown",
   "metadata": {},
   "source": [
    "# IU DeepNLP Reading Group Meeting #4\n",
    "## PyTorch Tutorial"
   ]
  },
  {
   "cell_type": "code",
   "execution_count": 77,
   "metadata": {
    "collapsed": true
   },
   "outputs": [],
   "source": [
    "import torch\n",
    "import torch.autograd as autograd\n",
    "import torch.nn as nn\n",
    "import torch.nn.functional as F\n",
    "import torch.optim as optim\n",
    "from torch import Tensor as T\n",
    "from torch.autograd import Variable as V\n",
    "from matplotlib import pyplot as plt\n",
    "%matplotlib inline"
   ]
  },
  {
   "cell_type": "markdown",
   "metadata": {},
   "source": [
    "# Task 1a- Neural Language Model"
   ]
  },
  {
   "cell_type": "code",
   "execution_count": 160,
   "metadata": {},
   "outputs": [
    {
     "name": "stdout",
     "output_type": "stream",
     "text": [
      "[(['When', 'forty'], 'winters'), (['forty', 'winters'], 'shall'), (['winters', 'shall'], 'besiege')]\n",
      "[([20, 2], 91), ([2, 91], 63), ([91, 63], 85)]\n"
     ]
    }
   ],
   "source": [
    "# We will use Shakespeare Sonnet 2\n",
    "test_sentence_raw = \"\"\"When forty winters shall besiege thy brow,\n",
    "And dig deep trenches in thy beauty's field,\n",
    "Thy youth's proud livery so gazed on now,\n",
    "Will be a totter'd weed of small worth held:\n",
    "Then being asked, where all thy beauty lies,\n",
    "Where all the treasure of thy lusty days;\n",
    "To say, within thine own deep sunken eyes,\n",
    "Were an all-eating shame, and thriftless praise.\n",
    "How much more praise deserv'd thy beauty's use,\n",
    "If thou couldst answer 'This fair child of mine\n",
    "Shall sum my count, and make my old excuse,'\n",
    "Proving his beauty by succession thine!\n",
    "This were to be new made when thou art old,\n",
    "And see thy blood warm when thou feel'st it cold.\"\"\".split()\n",
    "\n",
    "vocab= set(test_sentence_raw)\n",
    "vocab_dict= {word:i for i,word in enumerate(vocab)}\n",
    "vocab_inv_dict= {i:word for word,i in vocab_dict.items()}\n",
    "#converting to word ids is easier when feeding to model\n",
    "test_sentence= list(map(lambda word:vocab_dict[word], test_sentence_raw))\n",
    "\n",
    "# we should tokenize the input, but we will ignore that for now\n",
    "# build a list of tuples.  Each tuple is ([ word_i-2, word_i-1 ], target word)\n",
    "trigrams_raw = [ ([test_sentence_raw[i], test_sentence_raw[i+1]], test_sentence_raw[i+2]) for i in range(len(test_sentence_raw) - 2) ]\n",
    "print(trigrams_raw[:3]) # print the first 3, just so you can see what they look like\n",
    "\n",
    "trigrams= [([test_sentence[i], test_sentence[i+1]], test_sentence[i+2]) for i in range(len(test_sentence)- 2)]\n",
    "print(trigrams[:3])"
   ]
  },
  {
   "cell_type": "code",
   "execution_count": 161,
   "metadata": {
    "collapsed": true
   },
   "outputs": [],
   "source": [
    "#Hyperparams\n",
    "CONTEXT_SIZE = 2\n",
    "EMBEDDING_DIM = 10\n",
    "VOCAB_SIZE= len(vocab)\n",
    "\n",
    "class NLLM(nn.Module):\n",
    "    #Actual Network code. Easy as pie!\n",
    "    def __init__(self, vocab_size=VOCAB_SIZE, embedding_dim=EMBEDDING_DIM, context_size=CONTEXT_SIZE):\n",
    "        super(NLLM, self).__init__()\n",
    "        self.emb= nn.Embedding(vocab_size,embedding_dim)\n",
    "        self.linear1=nn.Linear(context_size*embedding_dim,100)\n",
    "        self.linear2=nn.Linear(100,vocab_size)\n",
    "    \n",
    "    def forward(self,inputs):\n",
    "        #Pytorch always expects inputs to be minibatched\n",
    "        h= self.emb(inputs) #Functions like a dictionary. Given inputs, returns corresponding embeddings\n",
    "        h= h.view(1,-1) #This reshapes 2*10 into 1*20. -1 tells Pytorch to calculate dimensions given constraints\n",
    "        h= F.relu(self.linear1(h))\n",
    "        out= F.relu(self.linear2(h))\n",
    "        logprobs= F.log_softmax(out)\n",
    "        return logprobs"
   ]
  },
  {
   "cell_type": "code",
   "execution_count": 163,
   "metadata": {},
   "outputs": [
    {
     "name": "stdout",
     "output_type": "stream",
     "text": [
      "Loss at epoch 100:[ 317.0065918]"
     ]
    }
   ],
   "source": [
    "EPOCHS=100\n",
    "\n",
    "model= NLLM()\n",
    "#Hooking up the optimizer to the net's parameters. We will use this later to update\n",
    "optimizer= optim.SGD(model.parameters(),lr=0.01) \n",
    "loss_criterion= nn.NLLLoss() #Negative log likelihood\n",
    "\n",
    "losses=[]\n",
    "\n",
    "for i in range(EPOCHS):\n",
    "    total_loss=0\n",
    "    for context,target in trigrams:\n",
    "        #turn data into Tensors\n",
    "        #context_var = autograd.Variable( torch.LongTensor(context_idxs) )\n",
    "        inp= V(torch.LongTensor(context)) #embedding expects LongTensor. Default is float\n",
    "        model.zero_grad()\n",
    "\n",
    "        log_probs= model(inp)\n",
    "\n",
    "        loss= loss_criterion(log_probs,\n",
    "                             V(torch.LongTensor([target]))) #Pytorch needs Autograd Variables for backprop related calculations\n",
    "        loss.backward()\n",
    "        optimizer.step()\n",
    "        \n",
    "        total_loss+= loss.data.numpy() #Autograd var->Tensor->Numpy\n",
    "    losses.append(total_loss)\n",
    "    print(f\"\\rLoss at epoch {i+1}:{total_loss}\",end='')"
   ]
  },
  {
   "cell_type": "code",
   "execution_count": 164,
   "metadata": {},
   "outputs": [
    {
     "data": {
      "text/plain": [
       "[<matplotlib.lines.Line2D at 0x7fe6800017b8>]"
      ]
     },
     "execution_count": 164,
     "metadata": {},
     "output_type": "execute_result"
    },
    {
     "data": {
      "image/png": "[encoded data removed]",
      "text/plain": [
       "<matplotlib.figure.Figure at 0x7fe680975c88>"
      ]
     },
     "metadata": {},
     "output_type": "display_data"
    }
   ],
   "source": [
    "plt.plot(losses)"
   ]
  },
  {
   "cell_type": "code",
   "execution_count": 165,
   "metadata": {},
   "outputs": [
    {
     "data": {
      "text/plain": [
       "\"Where all all were couldst answer 'This mine Shall sunken eyes, Shall\""
      ]
     },
     "execution_count": 165,
     "metadata": {},
     "output_type": "execute_result"
    }
   ],
   "source": [
    "#Sample data using the model\n",
    "\n",
    "def generate(priming_words, model, mode, length):\n",
    "    \"\"\"\n",
    "    args:\n",
    "        priming words is the first input fed to the language model\n",
    "        model is the language model you're using\n",
    "        mode can be 'max' or 'sample'\n",
    "        length of generated sequence\n",
    "    returns\n",
    "    \"\"\"\n",
    "    context= priming_words.split()\n",
    "    context= list(map(lambda word:vocab_dict[word], context))\n",
    "    \n",
    "    sentence= context[:]\n",
    "    for i in range(length):\n",
    "        #print(context)\n",
    "        inp= V(torch.LongTensor(context))\n",
    "        log_probs= model(inp)\n",
    "        if mode=='max':\n",
    "            _,argmax= torch.max(log_probs,1) #get index\n",
    "            next_word= argmax.data.numpy().tolist()[0]\n",
    "        else:\n",
    "            pass\n",
    "        sentence.append(next_word)\n",
    "        context.pop(0)\n",
    "        context.append(next_word)\n",
    "    \n",
    "    sentence= list(map(lambda word:vocab_inv_dict[word], sentence))\n",
    "    return \" \".join(sentence)\n",
    "\n",
    "generate(\"Where all\", model, 'max',10)"
   ]
  }
 ],
 "metadata": {
  "kernelspec": {
   "display_name": "Python 3",
   "language": "python",
   "name": "python3"
  },
  "language_info": {
   "codemirror_mode": {
    "name": "ipython",
    "version": 3
   },
   "file_extension": ".py",
   "mimetype": "text/x-python",
   "name": "python",
   "nbconvert_exporter": "python",
   "pygments_lexer": "ipython3",
   "version": "3.6.2"
  }
 },
 "nbformat": 4,
 "nbformat_minor": 2
}
